{
 "cells": [
  {
   "cell_type": "code",
   "execution_count": 5,
   "metadata": {},
   "outputs": [
    {
     "name": "stdout",
     "output_type": "stream",
     "text": [
      "Csv data\n",
      "                Name  Roll No  Age\n",
      "0   V Sadhik 4260 19      NaN  NaN\n",
      "1   M Roshan 04G5 20      NaN  NaN\n",
      "2  K Chinmay 4217 19      NaN  NaN\n",
      "3   M Lokesh 4258 18      NaN  NaN\n",
      "       Roll No  Age\n",
      "count      0.0  0.0\n",
      "mean       NaN  NaN\n",
      "std        NaN  NaN\n",
      "min        NaN  NaN\n",
      "25%        NaN  NaN\n",
      "50%        NaN  NaN\n",
      "75%        NaN  NaN\n",
      "max        NaN  NaN\n"
     ]
    }
   ],
   "source": [
    "import pandas as pd\n",
    "import numpy as np\n",
    "print(\"Csv data\")\n",
    "# Read data from CSV file\n",
    "csv_data = pd.read_csv('data.csv')\n",
    "print(csv_data)\n",
    "print(csv_data.describe())"
   ]
  },
  {
   "cell_type": "code",
   "execution_count": 2,
   "metadata": {},
   "outputs": [
    {
     "name": "stdout",
     "output_type": "stream",
     "text": [
      "['Name,Roll No,Age']\n",
      "['V Sadhik 4260 19']\n",
      "['M Roshan 04G5 20']\n",
      "['K Chinmay 4217 19']\n",
      "['M Lokesh 4258 18']\n"
     ]
    }
   ],
   "source": [
    "import csv\n",
    "\n",
    "def read_csv_file(file_path, delimiter):\n",
    "    with open(file_path, 'r') as csv_file:\n",
    "        reader = csv.reader(csv_file, delimiter=delimiter)\n",
    "        for row in reader:\n",
    "            print(row)\n",
    "\n",
    "file_path = 'data.csv'  \n",
    "delimiter = ';'  \n",
    "read_csv_file(file_path, delimiter)"
   ]
  },
  {
   "cell_type": "code",
   "execution_count": 1,
   "metadata": {},
   "outputs": [
    {
     "name": "stdout",
     "output_type": "stream",
     "text": [
      "['Name,Roll', 'No,Age']\n",
      "['V', 'Sadhik', '4260', '19']\n",
      "['M', 'Roshan', '04G5', '20']\n",
      "['K', 'Chinmay', '4217', '19']\n",
      "['M', 'Lokesh', '4258', '18']\n"
     ]
    }
   ],
   "source": [
    "import csv\n",
    "\n",
    "def read_csv_file(file_path, delimiter):\n",
    "    with open(file_path, 'r') as csv_file:\n",
    "        reader = csv.reader(csv_file, delimiter=delimiter)\n",
    "        for row in reader:\n",
    "            print(row)\n",
    "\n",
    "file_path = 'data.csv'  \n",
    "delimiter = ' '  \n",
    "\n",
    "read_csv_file(file_path, delimiter)\n"
   ]
  },
  {
   "cell_type": "code",
   "execution_count": 4,
   "metadata": {},
   "outputs": [
    {
     "name": "stdout",
     "output_type": "stream",
     "text": [
      "This is about css selectors\n",
      "It is used for selecting different ones\n",
      "WE can use ids and clasees to differentiate their property\n"
     ]
    }
   ],
   "source": [
    "from bs4 import BeautifulSoup\n",
    "\n",
    "# Read the HTML file\n",
    "with open('example.html', 'r') as html_file:\n",
    "    html_content = html_file.read()\n",
    "\n",
    "# Parse the HTML content using BeautifulSoup\n",
    "soup = BeautifulSoup(html_content, 'html.parser')\n",
    "# Find all paragraph elements\n",
    "paragraphs = soup.find_all('p')\n",
    "\n",
    "# Display the text within each paragraph\n",
    "for p in paragraphs:\n",
    "    print(p.text)\n"
   ]
  },
  {
   "cell_type": "code",
   "execution_count": 7,
   "metadata": {},
   "outputs": [
    {
     "name": "stdout",
     "output_type": "stream",
     "text": [
      "Element name: title\n",
      "Element attributes: {}\n",
      "Element text: The Great Gatsby\n",
      "-----\n",
      "Element name: author\n",
      "Element attributes: {}\n",
      "Element text: F. Scott Fitzgerald\n",
      "-----\n",
      "Element name: year\n",
      "Element attributes: {}\n",
      "Element text: 1925\n",
      "-----\n",
      "Element name: price\n",
      "Element attributes: {'currency': 'USD'}\n",
      "Element text: 10.99\n",
      "-----\n"
     ]
    }
   ],
   "source": [
    "import xml.etree.ElementTree as ET\n",
    "\n",
    "# Load XML file\n",
    "tree = ET.parse('data.xml')\n",
    "# Get the root element\n",
    "root = tree.getroot()\n",
    "\n",
    "# Iterate over elements\n",
    "for element in root:\n",
    "    # Access element properties and data\n",
    "    print(\"Element name:\", element.tag)\n",
    "    print(\"Element attributes:\", element.attrib)\n",
    "    print(\"Element text:\", element.text)\n",
    "    print(\"-----\")\n"
   ]
  },
  {
   "cell_type": "code",
   "execution_count": 17,
   "metadata": {},
   "outputs": [
    {
     "name": "stdout",
     "output_type": "stream",
     "text": [
      "Name: John Doe\n",
      "Age: 30\n",
      "Email: johndoe@example.com\n",
      "Address: 123 Main St\n",
      "Hobbies: ['reading', 'traveling', 'photography']\n",
      "Is Student: False\n"
     ]
    }
   ],
   "source": [
    "import json\n",
    "json_data='''\n",
    "{\n",
    "  \"name\": \"John Doe\",\n",
    "  \"age\": 30,\n",
    "  \"email\": \"johndoe@example.com\",\n",
    "  \"address\": {\n",
    "    \"street\": \"123 Main St\",\n",
    "    \"city\": \"Anytown\",\n",
    "    \"state\": \"XYZ\"\n",
    "  },\n",
    "  \"hobbies\": [\"reading\", \"traveling\", \"photography\"],\n",
    "  \"is_student\": false\n",
    "}\n",
    "'''\n",
    "# Parse JSON data\n",
    "data = json.loads(json_data)\n",
    "\n",
    "# Access and print data\n",
    "print(\"Name:\", data[\"name\"])\n",
    "print(\"Age:\", data[\"age\"])\n",
    "print(\"Email:\", data[\"email\"])\n",
    "print(\"Address:\", data[\"address\"][\"street\"])\n",
    "print(\"Hobbies:\", data[\"hobbies\"])\n",
    "print(\"Is Student:\", data[\"is_student\"])"
   ]
  },
  {
   "cell_type": "code",
   "execution_count": null,
   "metadata": {},
   "outputs": [],
   "source": []
  }
 ],
 "metadata": {
  "kernelspec": {
   "display_name": "Python 3",
   "language": "python",
   "name": "python3"
  },
  "language_info": {
   "codemirror_mode": {
    "name": "ipython",
    "version": 3
   },
   "file_extension": ".py",
   "mimetype": "text/x-python",
   "name": "python",
   "nbconvert_exporter": "python",
   "pygments_lexer": "ipython3",
   "version": "3.11.4"
  },
  "orig_nbformat": 4
 },
 "nbformat": 4,
 "nbformat_minor": 2
}
