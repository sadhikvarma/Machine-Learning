{
  "cells": [
    {
      "cell_type": "code",
      "execution_count": 15,
      "metadata": {
        "colab": {
          "base_uri": "https://localhost:8080/"
        },
        "id": "i4NCJeJCYnjx",
        "outputId": "0c4c9df6-e39f-4c97-e95b-ef02903a308c"
      },
      "outputs": [
        {
          "name": "stdout",
          "output_type": "stream",
          "text": [
            "       A      B      C      D      E\n",
            "0   True   True  False  False  False\n",
            "1  False   True   True   True  False\n",
            "2   True  False   True   True   True\n",
            "3   True  False  False   True   True\n",
            "4   True   True   True  False  False\n",
            "5   True   True   True   True  False\n",
            "6   True  False  False  False  False\n",
            "7   True   True   True  False  False\n",
            "8   True   True  False   True  False\n",
            "9  False   True   True  False   True\n"
          ]
        }
      ],
      "source": [
        "import pandas as pd\n",
        "from mlxtend.preprocessing import TransactionEncoder\n",
        "from mlxtend.frequent_patterns import fpgrowth\n",
        "from mlxtend.frequent_patterns import association_rules\n",
        "DATA=[['B','A'],\n",
        "['B','C','D'],\n",
        "['C','D','E','A'],\n",
        "['A','D','E'],\n",
        "['C','B','A'],\n",
        "['A','B','C','D'],\n",
        "['A'],\n",
        "['A','B','C'],\n",
        "['D','B','A'],\n",
        "['B','C','E']]\n",
        "\n",
        "te=TransactionEncoder()\n",
        "te_ary=te.fit(DATA).transform(DATA)\n",
        "df=pd.DataFrame(te_ary,columns=te.columns_)\n",
        "print(df)\n"
      ]
    },
    {
      "cell_type": "code",
      "execution_count": 21,
      "metadata": {},
      "outputs": [
        {
          "data": {
            "text/html": [
              "<div>\n",
              "<style scoped>\n",
              "    .dataframe tbody tr th:only-of-type {\n",
              "        vertical-align: middle;\n",
              "    }\n",
              "\n",
              "    .dataframe tbody tr th {\n",
              "        vertical-align: top;\n",
              "    }\n",
              "\n",
              "    .dataframe thead th {\n",
              "        text-align: right;\n",
              "    }\n",
              "</style>\n",
              "<table border=\"1\" class=\"dataframe\">\n",
              "  <thead>\n",
              "    <tr style=\"text-align: right;\">\n",
              "      <th></th>\n",
              "      <th>support</th>\n",
              "      <th>itemsets</th>\n",
              "    </tr>\n",
              "  </thead>\n",
              "  <tbody>\n",
              "    <tr>\n",
              "      <th>0</th>\n",
              "      <td>0.8</td>\n",
              "      <td>(A)</td>\n",
              "    </tr>\n",
              "    <tr>\n",
              "      <th>1</th>\n",
              "      <td>0.7</td>\n",
              "      <td>(B)</td>\n",
              "    </tr>\n",
              "    <tr>\n",
              "      <th>2</th>\n",
              "      <td>0.6</td>\n",
              "      <td>(C)</td>\n",
              "    </tr>\n",
              "    <tr>\n",
              "      <th>3</th>\n",
              "      <td>0.5</td>\n",
              "      <td>(D)</td>\n",
              "    </tr>\n",
              "    <tr>\n",
              "      <th>4</th>\n",
              "      <td>0.3</td>\n",
              "      <td>(E)</td>\n",
              "    </tr>\n",
              "    <tr>\n",
              "      <th>5</th>\n",
              "      <td>0.5</td>\n",
              "      <td>(A, B)</td>\n",
              "    </tr>\n",
              "    <tr>\n",
              "      <th>6</th>\n",
              "      <td>0.5</td>\n",
              "      <td>(C, B)</td>\n",
              "    </tr>\n",
              "    <tr>\n",
              "      <th>7</th>\n",
              "      <td>0.4</td>\n",
              "      <td>(A, C)</td>\n",
              "    </tr>\n",
              "    <tr>\n",
              "      <th>8</th>\n",
              "      <td>0.3</td>\n",
              "      <td>(A, B, C)</td>\n",
              "    </tr>\n",
              "    <tr>\n",
              "      <th>9</th>\n",
              "      <td>0.3</td>\n",
              "      <td>(D, C)</td>\n",
              "    </tr>\n",
              "    <tr>\n",
              "      <th>10</th>\n",
              "      <td>0.3</td>\n",
              "      <td>(D, B)</td>\n",
              "    </tr>\n",
              "    <tr>\n",
              "      <th>11</th>\n",
              "      <td>0.4</td>\n",
              "      <td>(D, A)</td>\n",
              "    </tr>\n",
              "  </tbody>\n",
              "</table>\n",
              "</div>"
            ],
            "text/plain": [
              "    support   itemsets\n",
              "0       0.8        (A)\n",
              "1       0.7        (B)\n",
              "2       0.6        (C)\n",
              "3       0.5        (D)\n",
              "4       0.3        (E)\n",
              "5       0.5     (A, B)\n",
              "6       0.5     (C, B)\n",
              "7       0.4     (A, C)\n",
              "8       0.3  (A, B, C)\n",
              "9       0.3     (D, C)\n",
              "10      0.3     (D, B)\n",
              "11      0.4     (D, A)"
            ]
          },
          "execution_count": 21,
          "metadata": {},
          "output_type": "execute_result"
        }
      ],
      "source": [
        "fpgrowth(df,min_support=0.3,use_colnames=True)"
      ]
    }
  ],
  "metadata": {
    "colab": {
      "provenance": []
    },
    "kernelspec": {
      "display_name": "Python 3",
      "name": "python3"
    },
    "language_info": {
      "codemirror_mode": {
        "name": "ipython",
        "version": 3
      },
      "file_extension": ".py",
      "mimetype": "text/x-python",
      "name": "python",
      "nbconvert_exporter": "python",
      "pygments_lexer": "ipython3",
      "version": "3.11.4"
    }
  },
  "nbformat": 4,
  "nbformat_minor": 0
}
