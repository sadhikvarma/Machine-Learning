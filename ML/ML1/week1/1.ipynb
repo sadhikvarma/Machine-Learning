{
 "cells": [
  {
   "cell_type": "code",
   "execution_count": 3,
   "metadata": {},
   "outputs": [
    {
     "name": "stdout",
     "output_type": "stream",
     "text": [
      "Enter the elements of the first matrix: \n",
      "Enter the elements of the second matrix: \n",
      "Matrix addition\n",
      "2  4  6  \n",
      "8  10  12  \n",
      "14  16  18  \n",
      "Matrix substraction\n",
      "0  0  0  \n",
      "0  0  0  \n",
      "0  0  0  \n",
      "Matrix multiplication\n",
      "30  36  42  \n",
      "66  81  96  \n",
      "102  126  150  \n",
      "Matrix inversion\n",
      "Inverse of first matrix: \n"
     ]
    },
    {
     "ename": "LinAlgError",
     "evalue": "Singular matrix",
     "output_type": "error",
     "traceback": [
      "\u001b[1;31m---------------------------------------------------------------------------\u001b[0m",
      "\u001b[1;31mLinAlgError\u001b[0m                               Traceback (most recent call last)",
      "\u001b[1;32md:\\ML1\\1w\\1.ipynb Cell 1\u001b[0m in \u001b[0;36m4\n\u001b[0;32m     <a href='vscode-notebook-cell:/d%3A/ML1/1w/1.ipynb#W0sZmlsZQ%3D%3D?line=42'>43</a>\u001b[0m \u001b[39melse\u001b[39;00m:\n\u001b[0;32m     <a href='vscode-notebook-cell:/d%3A/ML1/1w/1.ipynb#W0sZmlsZQ%3D%3D?line=43'>44</a>\u001b[0m   \u001b[39mprint\u001b[39m(\u001b[39m\"\u001b[39m\u001b[39mInverse of first matrix: \u001b[39m\u001b[39m\"\u001b[39m)\n\u001b[1;32m---> <a href='vscode-notebook-cell:/d%3A/ML1/1w/1.ipynb#W0sZmlsZQ%3D%3D?line=44'>45</a>\u001b[0m   print_matrix(np\u001b[39m.\u001b[39;49mlinalg\u001b[39m.\u001b[39;49minv(m1),m,n)\n\u001b[0;32m     <a href='vscode-notebook-cell:/d%3A/ML1/1w/1.ipynb#W0sZmlsZQ%3D%3D?line=45'>46</a>\u001b[0m \u001b[39mprint\u001b[39m(\u001b[39m\"\u001b[39m\u001b[39mTranspose of first matrix: \u001b[39m\u001b[39m\"\u001b[39m,print_matrix(m1\u001b[39m.\u001b[39mtranspose()))\n",
      "File \u001b[1;32m<__array_function__ internals>:180\u001b[0m, in \u001b[0;36minv\u001b[1;34m(*args, **kwargs)\u001b[0m\n",
      "File \u001b[1;32mc:\\python\\lib\\site-packages\\numpy\\linalg\\linalg.py:552\u001b[0m, in \u001b[0;36minv\u001b[1;34m(a)\u001b[0m\n\u001b[0;32m    550\u001b[0m signature \u001b[39m=\u001b[39m \u001b[39m'\u001b[39m\u001b[39mD->D\u001b[39m\u001b[39m'\u001b[39m \u001b[39mif\u001b[39;00m isComplexType(t) \u001b[39melse\u001b[39;00m \u001b[39m'\u001b[39m\u001b[39md->d\u001b[39m\u001b[39m'\u001b[39m\n\u001b[0;32m    551\u001b[0m extobj \u001b[39m=\u001b[39m get_linalg_error_extobj(_raise_linalgerror_singular)\n\u001b[1;32m--> 552\u001b[0m ainv \u001b[39m=\u001b[39m _umath_linalg\u001b[39m.\u001b[39;49minv(a, signature\u001b[39m=\u001b[39;49msignature, extobj\u001b[39m=\u001b[39;49mextobj)\n\u001b[0;32m    553\u001b[0m \u001b[39mreturn\u001b[39;00m wrap(ainv\u001b[39m.\u001b[39mastype(result_t, copy\u001b[39m=\u001b[39m\u001b[39mFalse\u001b[39;00m))\n",
      "File \u001b[1;32mc:\\python\\lib\\site-packages\\numpy\\linalg\\linalg.py:89\u001b[0m, in \u001b[0;36m_raise_linalgerror_singular\u001b[1;34m(err, flag)\u001b[0m\n\u001b[0;32m     88\u001b[0m \u001b[39mdef\u001b[39;00m \u001b[39m_raise_linalgerror_singular\u001b[39m(err, flag):\n\u001b[1;32m---> 89\u001b[0m     \u001b[39mraise\u001b[39;00m LinAlgError(\u001b[39m\"\u001b[39m\u001b[39mSingular matrix\u001b[39m\u001b[39m\"\u001b[39m)\n",
      "\u001b[1;31mLinAlgError\u001b[0m: Singular matrix"
     ]
    }
   ],
   "source": [
    "import numpy as np\n",
    "from fractions import Fraction\n",
    "def print_matrix(mat,m,n):\n",
    "  for i in range(m):\n",
    "    for j in range(n):\n",
    "      print(Fraction(mat[i][j]).limit_denominator(),end=\"  \")\n",
    "    print()\n",
    "\n",
    "m = int(input(\"Enter the number of rows in first matrix: \"))\n",
    "n = int(input(\"Enter the number of columns in first matrix: \"))\n",
    "print(\"Enter the elements of the first matrix: \")\n",
    "m1=[]\n",
    "for i in range(m):\n",
    "  l=list(map(int,input().strip().split()))\n",
    "  m1.append(l)\n",
    "p = int(input(\"Enter the number of rows in second matrix: \"))\n",
    "q = int(input(\"Enter the number of columns in second matrix: \"))\n",
    "print(\"Enter the elements of the second matrix: \")\n",
    "m2=[]\n",
    "for i in range(p):\n",
    "  l=list(map(int,input().strip().split()))\n",
    "  m2.append(l)\n",
    "m1=np.array(m1)\n",
    "m2=np.array(m2)\n",
    "print(\"Matrix addition\")\n",
    "if m!=p or n!=q:#to check addition is possible or not\n",
    "  print(\"Matrix addition is not possible!\")\n",
    "else:\n",
    "  print_matrix(m1+m2,m,n)\n",
    "print(\"Matrix substraction\")#to check substraction is possible or not\n",
    "if m!=p or n!=q:\n",
    "  print(\"Matrix substraction is not possible!\")\n",
    "else:\n",
    "  print_matrix(m1-m2,m,n)\n",
    "print(\"Matrix multiplication\")\n",
    "if n!=p:#to check multiplication is possible or not\n",
    "  print(\"Matrix multiplication is not possible!\")\n",
    "else:\n",
    "  print_matrix(m1@m2,m,q)\n",
    "print(\"Matrix inversion\")\n",
    "if m!=n:\n",
    "  print(\"Matrix inversion is not possible\")\n",
    "else:\n",
    "  if(np.linalg.det(m1)==0):\n",
    "    print(\"not possible\")\n",
    "  else:\n",
    "      print(\"Inverse of first matrix: \")\n",
    "      print_matrix(np.linalg.inv(m1),m,n)\n",
    "\n",
    "print(\"Transpose of first matrix: \",print_matrix(m1.transpose()))"
   ]
  }
 ],
 "metadata": {
  "kernelspec": {
   "display_name": "Python 3",
   "language": "python",
   "name": "python3"
  },
  "language_info": {
   "codemirror_mode": {
    "name": "ipython",
    "version": 3
   },
   "file_extension": ".py",
   "mimetype": "text/x-python",
   "name": "python",
   "nbconvert_exporter": "python",
   "pygments_lexer": "ipython3",
   "version": "3.10.2"
  },
  "orig_nbformat": 4,
  "vscode": {
   "interpreter": {
    "hash": "fbe58ca63fe33f9eeae9e71d10368d2b4a57f2b1b395836210cc60d362c66949"
   }
  }
 },
 "nbformat": 4,
 "nbformat_minor": 2
}
