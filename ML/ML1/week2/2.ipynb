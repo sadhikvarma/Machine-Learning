{
 "cells": [
  {
   "cell_type": "code",
   "execution_count": 1,
   "metadata": {},
   "outputs": [
    {
     "name": "stdout",
     "output_type": "stream",
     "text": [
      "maximum and minimum elements in the matrix are \n",
      "9\n",
      "1\n",
      "maximum and minimum elements in the column \n",
      "[3 6 9]\n",
      "[1 4 7]\n",
      "maximum and minimum elements in the column \n",
      "[7 8 9]\n",
      "[1 2 3]\n",
      "The trace is \n",
      "15\n",
      "the rank is\n",
      "2\n",
      "the eigen values are  [ 1.61168440e+01 -1.11684397e+00 -1.30367773e-15]\n",
      "the eigen vectors are  [[-0.23197069 -0.78583024  0.40824829]\n",
      " [-0.52532209 -0.08675134 -0.81649658]\n",
      " [-0.8186735   0.61232756  0.40824829]]\n"
     ]
    }
   ],
   "source": [
    "import numpy as np\n",
    "def min_max(lis):        # to find max,min element in the matrix\n",
    "  print(\"maximum and minimum elements in the matrix are \")\n",
    "  print(np.max(lis))\n",
    "  print(np.min(lis))\n",
    "def min_max_in_row(lis,row):#to find max,min element in each row\n",
    "      print(\"maximum and minimum elements in the row \" )\n",
    "      print(np.amax(lis,axis=1))\n",
    "      print(np.amin(lis,axis=1))\n",
    "def min_max_in_column(lis,col):#to find max,min element in each column\n",
    "      print(\"maximum and minimum elements in the column \" )\n",
    "      print(np.amax(lis,axis=0))\n",
    "      print(np.amin(lis,axis=0))\n",
    "def trace(lis):\n",
    "      print(\"The trace is \")\n",
    "      if(row!=col):\n",
    "        print(\"not possible\")\n",
    "      else:\n",
    "        sum=0\n",
    "        for i in range(row):\n",
    "          for j in range(col):\n",
    "              if(i==j):\n",
    "                sum+=lis[i][j]\n",
    "        print(sum)\n",
    "def rank(lis):\n",
    "  print(\"the rank is\")\n",
    "  print(np.linalg.matrix_rank(lis))\n",
    "def eigval(lis):\n",
    "  val,vec =np.linalg.eig(lis)\n",
    "  print(\"the eigen values are \",val)\n",
    "  print(\"the eigen vectors are \",vec)\n",
    "\n",
    "\n",
    "lis=[]\n",
    "row=int(input(\"Enter number of rows \"))\n",
    "col=int(input(\"Enter number of columns \"))\n",
    "for i in range(row):\n",
    "  l=list(map(int,input().strip().split()))  #to store elements in the list\n",
    "  lis.append(l)\n",
    "\n",
    "np.array(lis)\n",
    "min_max(lis)\n",
    "min_max_in_row(lis,row)\n",
    "min_max_in_column(lis,col)\n",
    "trace(lis)\n",
    "rank(lis)\n",
    "eigval(lis)"
   ]
  }
 ],
 "metadata": {
  "kernelspec": {
   "display_name": "Python 3",
   "language": "python",
   "name": "python3"
  },
  "language_info": {
   "codemirror_mode": {
    "name": "ipython",
    "version": 3
   },
   "file_extension": ".py",
   "mimetype": "text/x-python",
   "name": "python",
   "nbconvert_exporter": "python",
   "pygments_lexer": "ipython3",
   "version": "3.10.2"
  },
  "orig_nbformat": 4,
  "vscode": {
   "interpreter": {
    "hash": "fbe58ca63fe33f9eeae9e71d10368d2b4a57f2b1b395836210cc60d362c66949"
   }
  }
 },
 "nbformat": 4,
 "nbformat_minor": 2
}
