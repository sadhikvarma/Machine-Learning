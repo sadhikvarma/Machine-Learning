{
 "cells": [
  {
   "cell_type": "code",
   "execution_count": 3,
   "metadata": {},
   "outputs": [
    {
     "name": "stdout",
     "output_type": "stream",
     "text": [
      "Enter the elements \n",
      "the mean of the list is  6.0\n",
      "The median is  5.5\n",
      "the mode is  5\n",
      "Standard deviation is  2.138089935299395\n"
     ]
    }
   ],
   "source": [
    "import math\n",
    "from collections import Counter\n",
    "def mean(m):\n",
    "  a=len(m)\n",
    "  print(\"the mean of the list is \",sum(m)/a)\n",
    "  return sum(m)/a\n",
    "def median(m):\n",
    "  m.sort()\n",
    "  a=len(m)\n",
    "  if(a%2==0):\n",
    "    var=(m[a//2]+m[(a//2)-1])/2\n",
    "  else:\n",
    "    var=m[a//2]\n",
    "  print(\"The median is \",var)\n",
    "def mode(m):\n",
    "    y={}\n",
    "    for i in m:\n",
    "        if not i in y:\n",
    "            y[i]=1\n",
    "        else:\n",
    "            y[i]+=1\n",
    "    print(max(zip(y.values(),y.keys()))[1])\n",
    "def stand_dev(m,b):\n",
    "  var=0\n",
    "  for i in (m):\n",
    "     var+=(i-b)*(i-b)\n",
    "  print(\"Standard deviation is \",math.sqrt(var/(len(m)-1)))\n",
    "\n",
    "print(\"Enter the elements \")\n",
    "m=list(map(int,input().strip().split()))\n",
    "b=mean(m)\n",
    "median(m)\n",
    "mode(m)\n",
    "stand_dev(m,b)"
   ]
  },
  {
   "cell_type": "code",
   "execution_count": 9,
   "metadata": {},
   "outputs": [
    {
     "name": "stdout",
     "output_type": "stream",
     "text": [
      "Enter the elements \n",
      "Standard deviation is  6.8868404532536855\n"
     ]
    }
   ],
   "source": [
    "import math\n",
    "def stand_dev(m,b):\n",
    "  var=0\n",
    "  for p in ((m)):\n",
    "     var+=(p-b)*(p-b)\n",
    "  print(\"Standard deviation is \",math.sqrt(var/(len(m)-1)))\n",
    "print(\"Enter the elements \")\n",
    "m=list(map(int,input().strip().split()))\n",
    "b=6\n",
    "stand_dev(m,b)"
   ]
  }
 ],
 "metadata": {
  "kernelspec": {
   "display_name": "Python 3",
   "language": "python",
   "name": "python3"
  },
  "language_info": {
   "codemirror_mode": {
    "name": "ipython",
    "version": 3
   },
   "file_extension": ".py",
   "mimetype": "text/x-python",
   "name": "python",
   "nbconvert_exporter": "python",
   "pygments_lexer": "ipython3",
   "version": "3.10.2"
  },
  "orig_nbformat": 4,
  "vscode": {
   "interpreter": {
    "hash": "fbe58ca63fe33f9eeae9e71d10368d2b4a57f2b1b395836210cc60d362c66949"
   }
  }
 },
 "nbformat": 4,
 "nbformat_minor": 2
}
