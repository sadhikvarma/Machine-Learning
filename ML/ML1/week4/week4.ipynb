{
 "cells": [
  {
   "cell_type": "code",
   "execution_count": 12,
   "metadata": {},
   "outputs": [
    {
     "name": "stdout",
     "output_type": "stream",
     "text": [
      "Name column from the DataFrame\n",
      "1     chinmay\n",
      "2    nishanth\n",
      "3      lokesh\n",
      "Name: Name, dtype: object\n",
      "the statistics of the DataFrame are\n",
      "         Age      roll_no\n",
      "count   4.00     4.000000\n",
      "mean   18.75  3284.750000\n",
      "std     0.50  1920.602228\n",
      "min    18.00   404.000000\n",
      "25%    18.75  3263.750000\n",
      "50%    19.00  4237.500000\n",
      "75%    19.00  4258.500000\n",
      "max    19.00  4260.000000\n",
      "0    19\n",
      "1    19\n",
      "2    19\n",
      "3    18\n",
      "Name: Age, dtype: int64\n",
      "the mean and standard deviation of the data frame are\n",
      "18.75\n",
      "0.5\n"
     ]
    }
   ],
   "source": [
    "import pandas as pd\n",
    "data = {'Name': ['sadhik', 'chinmay', 'nishanth', 'lokesh'],\n",
    "        'Age': [19, 19, 19, 18],\n",
    "        'class':['csm','csm','csm','csm'],\n",
    "        'roll_no':[4260,4217,404,4258],\n",
    "        'email':['21131a4260@gvpce.ac.in','21131a4217@gvpce.ac.in','21131a04A4@gvpce.ac.in','21131a4258@gvpce.ac.in']}\n",
    "df=pd.DataFrame(data)\n",
    "print(\"Name column from the DataFrame\")\n",
    "var1=df.loc[:,'Name']                       #loc \n",
    "print(var1)\n",
    "print(\"the statistics of the DataFrame are\")\n",
    "print(df.describe())                        #for statistical data\n",
    "a=input(\"Enter for which you want either Age or roll_no \")\n",
    "var2=df.loc[:,a]\n",
    "print(\"the mean and standard deviation of the \"+var2 +\" are\")\n",
    "print(var2.mean())                          #for mean and standard deviation\n",
    "print(var2.std())"
   ]
  },
  {
   "cell_type": "code",
   "execution_count": 11,
   "metadata": {},
   "outputs": [
    {
     "name": "stdout",
     "output_type": "stream",
     "text": [
      "<bound method DataFrame.info of        Name  Age class  roll_no                   email\n",
      "0    sadhik   19   csm     4260  21131a4260@gvpce.ac.in\n",
      "1   chinmay   19   csm     4217  21131a4217@gvpce.ac.in\n",
      "2  nishanth   19   csm      404  21131a04A4@gvpce.ac.in\n",
      "3    lokesh   18   csm     4258  21131a4258@gvpce.ac.in>\n"
     ]
    }
   ],
   "source": [
    "print(df.info)\n"
   ]
  }
 ],
 "metadata": {
  "kernelspec": {
   "display_name": "Python 3",
   "language": "python",
   "name": "python3"
  },
  "language_info": {
   "codemirror_mode": {
    "name": "ipython",
    "version": 3
   },
   "file_extension": ".py",
   "mimetype": "text/x-python",
   "name": "python",
   "nbconvert_exporter": "python",
   "pygments_lexer": "ipython3",
   "version": "3.10.2"
  },
  "orig_nbformat": 4
 },
 "nbformat": 4,
 "nbformat_minor": 2
}
