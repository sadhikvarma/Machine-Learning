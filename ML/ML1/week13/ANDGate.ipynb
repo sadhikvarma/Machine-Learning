{
 "cells": [
  {
   "cell_type": "code",
   "execution_count": 1,
   "metadata": {},
   "outputs": [
    {
     "name": "stdout",
     "output_type": "stream",
     "text": [
      "OR(0, 1) = 1\n",
      "OR(1, 1) = 1\n",
      "OR(0, 0) = 0\n",
      "OR(1, 0) = 1\n"
     ]
    }
   ],
   "source": [
    "# And gate\n",
    "import numpy as np\n",
    "# define Unit Step Function\n",
    "def unitStep(v):\n",
    "\tif v >= 0:\n",
    "\t\treturn 1\n",
    "\telse:\n",
    "\t\treturn 0\n",
    "\n",
    "# design Perceptron Model\n",
    "def perceptronModel(x, w, b):\n",
    "\tv = np.dot(w, x) + b\n",
    "\ty = unitStep(v)\n",
    "\treturn y\n",
    "\n",
    "# AND  Logic Function\n",
    "# w1 = 2, w2 = 2, b = -1\n",
    "def AND_logicFunction(x):\n",
    "\tw = np.array([2, 2])\n",
    "\tb = -1\n",
    "\treturn perceptronModel(x, w, b)\n",
    "# testing the Perceptron Model\n",
    "test1 = np.array([0, 1])\n",
    "test2 = np.array([1, 1])\n",
    "test3 = np.array([0, 0])\n",
    "test4 = np.array([1, 0])\n",
    "print(\"OR({}, {}) = {}\".format(0, 1, AND_logicFunction(test1)))\n",
    "print(\"OR({}, {}) = {}\".format(1, 1, AND_logicFunction(test2)))\n",
    "print(\"OR({}, {}) = {}\".format(0, 0, AND_logicFunction(test3)))\n",
    "print(\"OR({}, {}) = {}\".format(1, 0, AND_logicFunction(test4)))"
   ]
  },
  {
   "cell_type": "code",
   "execution_count": null,
   "metadata": {},
   "outputs": [],
   "source": []
  }
 ],
 "metadata": {
  "kernelspec": {
   "display_name": "Python 3",
   "language": "python",
   "name": "python3"
  },
  "language_info": {
   "codemirror_mode": {
    "name": "ipython",
    "version": 3
   },
   "file_extension": ".py",
   "mimetype": "text/x-python",
   "name": "python",
   "nbconvert_exporter": "python",
   "pygments_lexer": "ipython3",
   "version": "3.10.2"
  },
  "orig_nbformat": 4
 },
 "nbformat": 4,
 "nbformat_minor": 2
}
