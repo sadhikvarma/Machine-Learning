{
 "cells": [
  {
   "cell_type": "code",
   "execution_count": 5,
   "metadata": {},
   "outputs": [
    {
     "name": "stdout",
     "output_type": "stream",
     "text": [
      "Training AND gate:\n",
      "WARNING:tensorflow:5 out of the last 5 calls to <function Model.make_test_function.<locals>.test_function at 0x000001D732D339C0> triggered tf.function retracing. Tracing is expensive and the excessive number of tracings could be due to (1) creating @tf.function repeatedly in a loop, (2) passing tensors with different shapes, (3) passing Python objects instead of tensors. For (1), please define your @tf.function outside of the loop. For (2), @tf.function has reduce_retracing=True option that can avoid unnecessary retracing. For (3), please refer to https://www.tensorflow.org/guide/function#controlling_retracing and https://www.tensorflow.org/api_docs/python/tf/function for  more details.\n",
      "1/1 [==============================] - 0s 449ms/step - loss: 0.6345 - accuracy: 0.7500\n",
      "AND Gate - Loss: 0.6344555020332336, Accuracy: 0.75\n",
      "WARNING:tensorflow:5 out of the last 5 calls to <function Model.make_predict_function.<locals>.predict_function at 0x000001D733E74860> triggered tf.function retracing. Tracing is expensive and the excessive number of tracings could be due to (1) creating @tf.function repeatedly in a loop, (2) passing tensors with different shapes, (3) passing Python objects instead of tensors. For (1), please define your @tf.function outside of the loop. For (2), @tf.function has reduce_retracing=True option that can avoid unnecessary retracing. For (3), please refer to https://www.tensorflow.org/guide/function#controlling_retracing and https://www.tensorflow.org/api_docs/python/tf/function for  more details.\n",
      "1/1 [==============================] - 0s 150ms/step\n",
      "\n",
      "Predictions:\n",
      "Input: [0 0], Predicted Output: 0\n",
      "Input: [0 1], Predicted Output: 0\n",
      "Input: [1 0], Predicted Output: 0\n",
      "Input: [1 1], Predicted Output: 0\n"
     ]
    }
   ],
   "source": [
    "import numpy as np\n",
    "from tensorflow.keras.models import Sequential\n",
    "from tensorflow.keras.layers import Dense\n",
    "\n",
    "# Create training data for AND gate\n",
    "X_and = np.array([[0, 0], [0, 1], [1, 0], [1, 1]])\n",
    "y_and = np.array([0, 0, 0, 1])\n",
    "\n",
    "# Build a simple feed-forward neural network\n",
    "model = Sequential([\n",
    "    Dense(4, input_dim=2, activation='relu'),  # Input layer with 8 neurons\n",
    "    Dense(1, activation='sigmoid')  # Output layer with 1 neuron and sigmoid activation for binary classification\n",
    "])\n",
    "\n",
    "# Compile the model\n",
    "model.compile(optimizer='adam', loss='binary_crossentropy', metrics=['accuracy'])\n",
    "\n",
    "# Train the model for AND gate\n",
    "print(\"Training AND gate:\")\n",
    "model.fit(X_and, y_and, epochs=300, verbose=0)\n",
    "\n",
    "# Evaluate the model on AND gate\n",
    "loss_and, accuracy_and = model.evaluate(X_and, y_and)\n",
    "print(f\"AND Gate - Loss: {loss_and}, Accuracy: {accuracy_and}\")\n",
    "\n",
    "# Test predictions\n",
    "test_data = np.array([[0, 0], [0, 1], [1, 0], [1, 1]])\n",
    "predictions = model.predict(test_data)\n",
    "print(\"\\nPredictions:\")\n",
    "for i in range(len(test_data)):\n",
    "    print(f\"Input: {test_data[i]}, Predicted Output: {round(predictions[i][0])}\")\n"
   ]
  },
  {
   "cell_type": "code",
   "execution_count": 14,
   "metadata": {},
   "outputs": [
    {
     "name": "stdout",
     "output_type": "stream",
     "text": [
      "Training OR gate:\n",
      "1/1 [==============================] - 0s 280ms/step - loss: 0.1856 - accuracy: 1.0000\n",
      "OR Gate - Loss: 0.18562747538089752, Accuracy: 1.0\n",
      "1/1 [==============================] - 0s 128ms/step\n",
      "\n",
      "Predictions:\n",
      "Input: [0 0], Predicted Output: 0\n",
      "Input: [0 1], Predicted Output: 1\n",
      "Input: [1 0], Predicted Output: 1\n",
      "Input: [1 1], Predicted Output: 1\n"
     ]
    }
   ],
   "source": [
    "# Create training data for OR gate\n",
    "X_or = np.array([[0, 0], [0, 1], [1, 0], [1, 1]])\n",
    "y_or = np.array([0, 1, 1, 1])\n",
    "\n",
    "# Build a simple feed-forward neural network\n",
    "model = Sequential([\n",
    "    Dense(16, input_dim=2, activation='relu'),  # Input layer with 8 neurons\n",
    "    Dense(1, activation='sigmoid')  # Output layer with 1 neuron and sigmoid activation for binary classification\n",
    "])\n",
    "\n",
    "# Compile the model\n",
    "model.compile(optimizer='adam', loss='binary_crossentropy', metrics=['accuracy'])\n",
    "\n",
    "# Train the model for OR gate\n",
    "print(\"Training OR gate:\")\n",
    "model.fit(X_or, y_or, epochs=500, verbose=0)\n",
    "\n",
    "# Evaluate the model on OR gate\n",
    "loss_or, accuracy_or = model.evaluate(X_or, y_or)\n",
    "print(f\"OR Gate - Loss: {loss_or}, Accuracy: {accuracy_or}\")\n",
    "# Test predictions\n",
    "test_data = np.array([[0, 0], [0, 1], [1, 0], [1, 1]])\n",
    "predictions = model.predict(test_data)\n",
    "print(\"\\nPredictions:\")\n",
    "for i in range(len(test_data)):\n",
    "    print(f\"Input: {test_data[i]}, Predicted Output: {round(predictions[i][0])}\")"
   ]
  },
  {
   "cell_type": "code",
   "execution_count": 36,
   "metadata": {},
   "outputs": [
    {
     "name": "stdout",
     "output_type": "stream",
     "text": [
      "Training NAND gate:\n",
      "1/1 [==============================] - 0s 431ms/step - loss: 0.2447 - accuracy: 1.0000\n",
      "NAND Gate - Loss: 0.24465197324752808, Accuracy: 1.0\n",
      "1/1 [==============================] - 0s 194ms/step\n",
      "\n",
      "Predictions:\n",
      "Input: [0 0], Predicted Output: 1\n",
      "Input: [0 1], Predicted Output: 1\n",
      "Input: [1 0], Predicted Output: 1\n",
      "Input: [1 1], Predicted Output: 0\n"
     ]
    }
   ],
   "source": [
    "# Create training data for NAND gate\n",
    "X_nand = np.array([[0, 0], [0, 1], [1, 0], [1, 1]])\n",
    "y_nand = np.array([1, 1, 1, 0])\n",
    "\n",
    "# Build a simple feed-forward neural network\n",
    "model = Sequential([\n",
    "    Dense(8, input_dim=2, activation='relu'),  # Input layer with 8 neurons\n",
    "    Dense(1, activation='sigmoid')  # Output layer with 1 neuron and sigmoid activation for binary classification\n",
    "])\n",
    "\n",
    "# Compile the model\n",
    "model.compile(optimizer='adam', loss='binary_crossentropy', metrics=['accuracy'])\n",
    "\n",
    "# Train the model for NAND gate\n",
    "print(\"Training NAND gate:\")\n",
    "model.fit(X_nand, y_nand, epochs=500, verbose=0)\n",
    "\n",
    "# Evaluate the model on NAND gate\n",
    "loss_nand, accuracy_nand = model.evaluate(X_nand, y_nand)\n",
    "print(f\"NAND Gate - Loss: {loss_nand}, Accuracy: {accuracy_nand}\")\n",
    "\n",
    "# Test predictions\n",
    "test_data = np.array([[0, 0], [0, 1], [1, 0], [1, 1]])\n",
    "predictions = model.predict(test_data)\n",
    "print(\"\\nPredictions:\")\n",
    "for i in range(len(test_data)):\n",
    "    print(f\"Input: {test_data[i]}, Predicted Output: {round(predictions[i][0])}\")"
   ]
  },
  {
   "cell_type": "code",
   "execution_count": 40,
   "metadata": {},
   "outputs": [
    {
     "name": "stdout",
     "output_type": "stream",
     "text": [
      "Training NOR gate:\n",
      "1/1 [==============================] - 0s 251ms/step - loss: 0.1844 - accuracy: 1.0000\n",
      "NOR Gate - Loss: 0.1843821108341217, Accuracy: 1.0\n",
      "1/1 [==============================] - 0s 109ms/step\n",
      "\n",
      "Predictions:\n",
      "Input: [0 0], Predicted Output: 1\n",
      "Input: [0 1], Predicted Output: 0\n",
      "Input: [1 0], Predicted Output: 0\n",
      "Input: [1 1], Predicted Output: 0\n"
     ]
    }
   ],
   "source": [
    "\n",
    "# Create training data for NOR gate\n",
    "X_nor = np.array([[0, 0], [0, 1], [1, 0], [1, 1]])\n",
    "y_nor = np.array([1, 0, 0, 0])\n",
    "\n",
    "\n",
    "# Build a simple feed-forward neural network\n",
    "model = Sequential([\n",
    "    Dense(8, input_dim=2, activation='relu'),  # Input layer with 8 neurons\n",
    "    Dense(1, activation='sigmoid')  # Output layer with 1 neuron and sigmoid activation for binary classification\n",
    "])\n",
    "\n",
    "# Compile the model\n",
    "model.compile(optimizer='adam', loss='binary_crossentropy', metrics=['accuracy'])\n",
    "\n",
    "# Train the model for NOR gate\n",
    "print(\"Training NOR gate:\")\n",
    "model.fit(X_nor, y_nor, epochs=1000, verbose=0)\n",
    "\n",
    "# Evaluate the model on nor gate\n",
    "loss_nor, accuracy_nor = model.evaluate(X_nor, y_nor)\n",
    "print(f\"NOR Gate - Loss: {loss_nor}, Accuracy: {accuracy_nor}\")\n",
    "\n",
    "# Test predictions\n",
    "test_data = np.array([[0, 0], [0, 1], [1, 0], [1, 1]])\n",
    "predictions = model.predict(test_data)\n",
    "print(\"\\nPredictions:\")\n",
    "for i in range(len(test_data)):\n",
    "    print(f\"Input: {test_data[i]}, Predicted Output: {round(predictions[i][0])}\")"
   ]
  },
  {
   "cell_type": "code",
   "execution_count": 43,
   "metadata": {},
   "outputs": [
    {
     "name": "stdout",
     "output_type": "stream",
     "text": [
      "Training XOR gate:\n",
      "1/1 [==============================] - 0s 322ms/step - loss: 0.5440 - accuracy: 1.0000\n",
      "XOR Gate - Loss: 0.5439607501029968, Accuracy: 1.0\n",
      "1/1 [==============================] - 0s 119ms/step\n",
      "\n",
      "Predictions:\n",
      "Input: [0 0], Predicted Output: 0\n",
      "Input: [0 1], Predicted Output: 1\n",
      "Input: [1 0], Predicted Output: 1\n",
      "Input: [1 1], Predicted Output: 0\n"
     ]
    }
   ],
   "source": [
    "# Create training data for XOR gate\n",
    "X_xor = np.array([[0, 0], [0, 1], [1, 0], [1, 1]])\n",
    "y_xor = np.array([0, 1, 1, 0])\n",
    "\n",
    "\n",
    "# Build a simple feed-forward neural network\n",
    "model = Sequential([\n",
    "    Dense(8, input_dim=2, activation='relu'),  # Input layer with 8 neurons\n",
    "    Dense(1, activation='sigmoid')  # Output layer with 1 neuron and sigmoid activation for binary classification\n",
    "])\n",
    "\n",
    "# Compile the model\n",
    "model.compile(optimizer='adam', loss='binary_crossentropy', metrics=['accuracy'])\n",
    "\n",
    "# Train the model for XOR gate\n",
    "print(\"Training XOR gate:\")\n",
    "model.fit(X_xor, y_xor, epochs=300, verbose=0)\n",
    "\n",
    "# Evaluate the model on XOR gate\n",
    "loss_xor, accuracy_xor = model.evaluate(X_xor, y_xor)\n",
    "print(f\"XOR Gate - Loss: {loss_xor}, Accuracy: {accuracy_xor}\")\n",
    "\n",
    "# Test predictions\n",
    "test_data = np.array([[0, 0], [0, 1], [1, 0], [1, 1]])\n",
    "predictions = model.predict(test_data)\n",
    "print(\"\\nPredictions:\")\n",
    "for i in range(len(test_data)):\n",
    "    print(f\"Input: {test_data[i]}, Predicted Output: {round(predictions[i][0])}\")"
   ]
  },
  {
   "cell_type": "code",
   "execution_count": 39,
   "metadata": {},
   "outputs": [
    {
     "name": "stdout",
     "output_type": "stream",
     "text": [
      "Training XNOR gate:\n",
      "1/1 [==============================] - 0s 220ms/step - loss: 0.3638 - accuracy: 1.0000\n",
      "XNOR Gate - Loss: 0.3638332486152649, Accuracy: 1.0\n",
      "1/1 [==============================] - 0s 94ms/step\n",
      "\n",
      "Predictions:\n",
      "Input: [0 0], Predicted Output: 1\n",
      "Input: [0 1], Predicted Output: 0\n",
      "Input: [1 0], Predicted Output: 0\n",
      "Input: [1 1], Predicted Output: 1\n"
     ]
    }
   ],
   "source": [
    "# Create training data for XNOR gate\n",
    "X_xnor = np.array([[0, 0], [0, 1], [1, 0], [1, 1]])\n",
    "y_xnor = np.array([1, 0, 0, 1])\n",
    "\n",
    "# Build a simple feed-forward neural network\n",
    "model = Sequential([\n",
    "    Dense(8, input_dim=2, activation='relu'),  # Input layer with 8 neurons\n",
    "    Dense(1, activation='sigmoid')  # Output layer with 1 neuron and sigmoid activation for binary classification\n",
    "])\n",
    "\n",
    "# Compile the model\n",
    "model.compile(optimizer='adam', loss='binary_crossentropy', metrics=['accuracy'])\n",
    "\n",
    "# Train the model for XNOR gate\n",
    "print(\"Training XNOR gate:\")\n",
    "model.fit(X_xnor, y_xnor, epochs=500, verbose=0)\n",
    "\n",
    "# Evaluate the model on XNOR gate\n",
    "loss_xnor, accuracy_xnor = model.evaluate(X_xnor, y_xnor)\n",
    "print(f\"XNOR Gate - Loss: {loss_xnor}, Accuracy: {accuracy_xnor}\")\n",
    "\n",
    "# Test predictions\n",
    "test_data = np.array([[0, 0], [0, 1], [1, 0], [1, 1]])\n",
    "predictions = model.predict(test_data)\n",
    "print(\"\\nPredictions:\")\n",
    "for i in range(len(test_data)):\n",
    "    print(f\"Input: {test_data[i]}, Predicted Output: {round(predictions[i][0])}\")"
   ]
  },
  {
   "cell_type": "code",
   "execution_count": null,
   "metadata": {},
   "outputs": [],
   "source": []
  }
 ],
 "metadata": {
  "kernelspec": {
   "display_name": "Python 3",
   "language": "python",
   "name": "python3"
  },
  "language_info": {
   "codemirror_mode": {
    "name": "ipython",
    "version": 3
   },
   "file_extension": ".py",
   "mimetype": "text/x-python",
   "name": "python",
   "nbconvert_exporter": "python",
   "pygments_lexer": "ipython3",
   "version": "3.11.4"
  }
 },
 "nbformat": 4,
 "nbformat_minor": 2
}
