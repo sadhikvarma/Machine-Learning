{
 "cells": [
  {
   "cell_type": "markdown",
   "id": "d5cbb3c3",
   "metadata": {},
   "source": [
    "# WEEK-9\n"
   ]
  },
  {
   "cell_type": "markdown",
   "id": "726d67e1",
   "metadata": {},
   "source": [
    "Write a program for object detection using image labeling tools."
   ]
  },
  {
   "cell_type": "code",
   "execution_count": 4,
   "id": "6e879121",
   "metadata": {},
   "outputs": [],
   "source": [
    "import cv2\n",
    "\n",
    "face_cascade = cv2.CascadeClassifier(r\"haarcascade_frontalface_default.xml\")\n",
    "cap = cv2.VideoCapture(0)\n",
    "while True:\n",
    "    ret, img = cap.read()\n",
    "    if not ret:\n",
    "        break\n",
    "\n",
    "    gray = cv2.cvtColor(img, cv2.COLOR_BGR2GRAY)\n",
    "    faces = face_cascade.detectMultiScale(gray, 1.3, 5)\n",
    "\n",
    "    for (x, y, w, h) in faces:\n",
    "        cv2.rectangle(img, (x, y), (x+w, y+h), (255, 255, 0), 2)\n",
    "        f_gray = gray[y:y+h, x:x+w]\n",
    "        f_color = img[y:y+h, x:x+w]\n",
    "\n",
    "    cv2.imshow('img', img)\n",
    "    k = cv2.waitKey(1) & 0xff\n",
    "    if k == 27:  # Press 'ESC' to exit\n",
    "        break\n",
    "\n",
    "cap.release()\n",
    "cv2.destroyAllWindows()\n"
   ]
  },
  {
   "cell_type": "code",
   "execution_count": null,
   "id": "7abd759a",
   "metadata": {},
   "outputs": [],
   "source": []
  }
 ],
 "metadata": {
  "kernelspec": {
   "display_name": "Python 3 (ipykernel)",
   "language": "python",
   "name": "python3"
  },
  "language_info": {
   "codemirror_mode": {
    "name": "ipython",
    "version": 3
   },
   "file_extension": ".py",
   "mimetype": "text/x-python",
   "name": "python",
   "nbconvert_exporter": "python",
   "pygments_lexer": "ipython3",
   "version": "3.11.4"
  }
 },
 "nbformat": 4,
 "nbformat_minor": 5
}
