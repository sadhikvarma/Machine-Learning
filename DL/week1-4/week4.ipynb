{
 "cells": [
  {
   "cell_type": "code",
   "execution_count": 1,
   "metadata": {},
   "outputs": [],
   "source": [
    "from gtts import gTTS\n",
    "import os\n",
    "\n",
    "def text_to_speech(text, language='en', save_path='output.mp3'):\n",
    "    # Create a gTTS object\n",
    "    tts = gTTS(text=text, lang=language, slow=False)\n",
    "\n",
    "    # Save the speech as an MP3 file\n",
    "    tts.save(save_path)\n",
    "\n",
    "    # Play the generated MP3 file\n",
    "    os.system(f'start {save_path}')  # Works on Windows, for other systems, you may need to adjust this\n",
    "\n",
    "if __name__ == \"__main__\":\n",
    "    # Example usage\n",
    "    text_to_speech(\"Hello Hello! \")\n"
   ]
  },
  {
   "cell_type": "code",
   "execution_count": 4,
   "metadata": {},
   "outputs": [],
   "source": [
    "import pyttsx3\n",
    "\n",
    "def text_to_speech(text, voice_id='english-us', rate=150):\n",
    "    engine = pyttsx3.init()\n",
    "\n",
    "    # Set properties (optional)\n",
    "    engine.setProperty('rate', rate)\n",
    "\n",
    "    # Get the list of available voices\n",
    "    voices = engine.getProperty('voices')\n",
    "\n",
    "    # Set the desired voice\n",
    "    for voice in voices:\n",
    "        if voice_id.lower() in voice.id.lower():\n",
    "            engine.setProperty('voice', voice.id)\n",
    "            break\n",
    "\n",
    "    # Convert text to speech\n",
    "    engine.say(text)\n",
    "\n",
    "    # Wait for the speech to finish\n",
    "    engine.runAndWait()\n",
    "\n",
    "if __name__ == \"__main__\":\n",
    "    # Example usage with a specific voice\n",
    "    text_to_speech(\"Hello how are you \", voice_id='english+f1')\n"
   ]
  },
  {
   "cell_type": "code",
   "execution_count": 2,
   "metadata": {},
   "outputs": [
    {
     "name": "stdout",
     "output_type": "stream",
     "text": [
      "ID: HKEY_LOCAL_MACHINE\\SOFTWARE\\Microsoft\\Speech\\Voices\\Tokens\\TTS_MS_EN-US_DAVID_11.0 Name: Microsoft David Desktop - English (United States)\n",
      "ID: HKEY_LOCAL_MACHINE\\SOFTWARE\\Microsoft\\Speech\\Voices\\Tokens\\TTS_MS_EN-US_ZIRA_11.0 Name: Microsoft Zira Desktop - English (United States)\n"
     ]
    }
   ],
   "source": [
    "import pyttsx3\n",
    "\n",
    "engine = pyttsx3.init()\n",
    "voices = engine.getProperty('voices')\n",
    "\n",
    "for voice in voices:\n",
    "    print(\"ID:\", voice.id, \"Name:\", voice.name)\n"
   ]
  },
  {
   "cell_type": "code",
   "execution_count": null,
   "metadata": {},
   "outputs": [],
   "source": []
  }
 ],
 "metadata": {
  "kernelspec": {
   "display_name": "Python 3",
   "language": "python",
   "name": "python3"
  },
  "language_info": {
   "codemirror_mode": {
    "name": "ipython",
    "version": 3
   },
   "file_extension": ".py",
   "mimetype": "text/x-python",
   "name": "python",
   "nbconvert_exporter": "python",
   "pygments_lexer": "ipython3",
   "version": "3.11.4"
  }
 },
 "nbformat": 4,
 "nbformat_minor": 2
}
