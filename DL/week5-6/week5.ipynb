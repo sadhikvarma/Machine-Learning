{
 "cells": [
  {
   "cell_type": "code",
   "execution_count": null,
   "metadata": {},
   "outputs": [],
   "source": [
    "import cv2\n",
    "import os\n",
    "\n",
    "def video_to_frames(video_path, output_folder):\n",
    "    # Create the output folder if it doesn't exist\n",
    "    os.makedirs(output_folder, exist_ok=True)\n",
    "\n",
    "    # Open the video file\n",
    "    cap = cv2.VideoCapture(video_path)\n",
    "\n",
    "    # Get video properties\n",
    "    fps = int(cap.get(cv2.CAP_PROP_FPS))\n",
    "    frame_count = int(cap.get(cv2.CAP_PROP_FRAME_COUNT))\n",
    "\n",
    "    print(f\"Converting video to frames...\")\n",
    "    print(f\"Video FPS: {fps}\")\n",
    "    print(f\"Total Frames: {frame_count}\")\n",
    "\n",
    "    # Loop through each frame\n",
    "    for frame_number in range(frame_count):\n",
    "        ret, frame = cap.read()\n",
    "\n",
    "        if not ret:\n",
    "            print(\"Error reading frame.\")\n",
    "            break\n",
    "\n",
    "        # Save the frame as an image file\n",
    "        frame_filename = os.path.join(output_folder, f\"frame_{frame_number:04d}.jpg\")\n",
    "        cv2.imwrite(frame_filename, frame)\n",
    "\n",
    "    # Release the video capture object\n",
    "    cap.release()\n",
    "    print(\"Conversion completed.\")\n",
    "\n",
    "if __name__ == \"__main__\":\n",
    "    # Provide the path to your video file\n",
    "    video_path = \"path/to/your/video.mp4\"\n",
    "\n",
    "    # Specify the output folder for frames\n",
    "    output_folder = \"frames_output\"\n",
    "\n",
    "    # Convert video to frames\n",
    "    video_to_frames(video_path, output_folder)\n"
   ]
  },
  {
   "cell_type": "code",
   "execution_count": 1,
   "metadata": {},
   "outputs": [
    {
     "name": "stdout",
     "output_type": "stream",
     "text": [
      "10 frames captured.\n"
     ]
    }
   ],
   "source": [
    "import cv2\n",
    "import os\n",
    "\n",
    "def capture_frames_from_webcam(output_folder, num_frames):\n",
    "    # Create the output folder if it doesn't exist\n",
    "    os.makedirs(output_folder, exist_ok=True)\n",
    "\n",
    "    # Open the webcam\n",
    "    cap = cv2.VideoCapture(0)  # Use 0 for the default webcam, adjust if you have multiple cameras\n",
    "\n",
    "    # Set video frame width and height\n",
    "    cap.set(3, 640)  # Width\n",
    "    cap.set(4, 480)  # Height\n",
    "\n",
    "    frame_number = 0\n",
    "\n",
    "    while frame_number < num_frames:\n",
    "        # Capture frame-by-frame\n",
    "        ret, frame = cap.read()\n",
    "\n",
    "        # Display the frame\n",
    "        cv2.imshow('Webcam Feed', frame)\n",
    "\n",
    "        # Save the frame as an image file\n",
    "        frame_filename = os.path.join(output_folder, f\"frame_{frame_number:04d}.jpg\")\n",
    "        cv2.imwrite(frame_filename, frame)\n",
    "\n",
    "        frame_number += 1\n",
    "\n",
    "        # Break the loop when 'q' key is pressed\n",
    "        if cv2.waitKey(1) & 0xFF == ord('q'):\n",
    "            break\n",
    "\n",
    "    # Release the webcam and close the window\n",
    "    cap.release()\n",
    "    cv2.destroyAllWindows()\n",
    "    print(f\"{frame_number} frames captured.\")\n",
    "\n",
    "if __name__ == \"__main__\":\n",
    "    # Specify the output folder for frames\n",
    "    output_folder = \"webcam_frames_output\"\n",
    "\n",
    "    # Specify the number of frames to capture\n",
    "    num_frames = 10\n",
    "\n",
    "    # Capture frames from the webcam\n",
    "    capture_frames_from_webcam(output_folder, num_frames)\n"
   ]
  },
  {
   "cell_type": "code",
   "execution_count": null,
   "metadata": {},
   "outputs": [],
   "source": []
  }
 ],
 "metadata": {
  "kernelspec": {
   "display_name": "Python 3",
   "language": "python",
   "name": "python3"
  },
  "language_info": {
   "codemirror_mode": {
    "name": "ipython",
    "version": 3
   },
   "file_extension": ".py",
   "mimetype": "text/x-python",
   "name": "python",
   "nbconvert_exporter": "python",
   "pygments_lexer": "ipython3",
   "version": "3.11.4"
  }
 },
 "nbformat": 4,
 "nbformat_minor": 2
}
