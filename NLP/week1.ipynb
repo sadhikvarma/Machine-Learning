{
 "cells": [
  {
   "cell_type": "code",
   "execution_count": 1,
   "metadata": {},
   "outputs": [
    {
     "name": "stderr",
     "output_type": "stream",
     "text": [
      "[nltk_data] Downloading package punkt to\n",
      "[nltk_data]     C:\\Users\\hp\\AppData\\Roaming\\nltk_data...\n",
      "[nltk_data]   Unzipping tokenizers\\punkt.zip.\n"
     ]
    },
    {
     "name": "stdout",
     "output_type": "stream",
     "text": [
      "Word Tokens: ['This', 'is', 'a', 'sample', 'text', '.', 'It', 'contains', 'multiple', 'sentences', '.', 'This', 'is', 'the', 'second', 'paragraph', '.', 'And', 'this', 'is', 'the', 'third', 'paragraph', 'with', 'multiple', 'lines', '.']\n",
      "Sentence Tokens: ['This is a sample text.', 'It contains multiple sentences.', 'This is the second paragraph.', 'And this is the third paragraph with multiple\\n    lines.']\n",
      "Paragraph Tokens: ['This is a sample text. It contains multiple sentences.', 'This is the second paragraph.', 'And this is the third paragraph with multiple\\n    lines.\\n    ']\n"
     ]
    }
   ],
   "source": [
    "\n",
    "import nltk\n",
    "from nltk.tokenize import word_tokenize, sent_tokenize, blankline_tokenize\n",
    "\n",
    "def word_tokenizer(text):\n",
    "    return word_tokenize(text)\n",
    "\n",
    "def sentence_tokenizer(text):\n",
    "    return sent_tokenize(text)\n",
    "\n",
    "def paragraph_tokenizer(text):\n",
    "    return blankline_tokenize(text)\n",
    "\n",
    "input_text = \"\"\"This is a sample text. It contains multiple sentences.\n",
    "\n",
    "This is the second paragraph.\n",
    "\n",
    "And this is the third paragraph with multiple\n",
    "lines.\n",
    "\"\"\"\n",
    "# Word Tokenization\n",
    "words = word_tokenizer(input_text)\n",
    "print(\"Word Tokens:\", words)\n",
    "\n",
    "# Sentence Tokenization\n",
    "sentences = sentence_tokenizer(input_text)\n",
    "print(\"Sentence Tokens:\", sentences)\n",
    "\n",
    "# Paragraph Tokenization\n",
    "paragraphs = paragraph_tokenizer(input_text)\n",
    "print(\"Paragraph Tokens:\", paragraphs)"
   ]
  },
  {
   "cell_type": "code",
   "execution_count": 3,
   "metadata": {},
   "outputs": [
    {
     "name": "stdout",
     "output_type": "stream",
     "text": [
      "Word Count: 21\n",
      "Unique Word Count: 20\n"
     ]
    }
   ],
   "source": [
    "import re\n",
    "\n",
    "def get_word_counts(text):\n",
    "    words = re.findall(r'\\b\\w+\\b', text)\n",
    "    word_count = len(words)\n",
    "    unique_word_count = len(set(words))\n",
    "\n",
    "    return word_count, unique_word_count\n",
    "\n",
    "text = \"Lorem ipsum dolor sit amet, consectetur adipiscing elit. Donec nec lorem nec augue lobortis maximus. Etiam convallis lacinia turpis at fermentum.\"\n",
    "word_count, unique_word_count = get_word_counts(text)\n",
    "\n",
    "print(f\"Word Count: {word_count}\")\n",
    "print(f\"Unique Word Count: {unique_word_count}\")"
   ]
  }
 ],
 "metadata": {
  "kernelspec": {
   "display_name": "Python 3",
   "language": "python",
   "name": "python3"
  },
  "language_info": {
   "codemirror_mode": {
    "name": "ipython",
    "version": 3
   },
   "file_extension": ".py",
   "mimetype": "text/x-python",
   "name": "python",
   "nbconvert_exporter": "python",
   "pygments_lexer": "ipython3",
   "version": "3.11.4"
  }
 },
 "nbformat": 4,
 "nbformat_minor": 2
}
