{
 "cells": [
  {
   "cell_type": "code",
   "execution_count": 1,
   "metadata": {},
   "outputs": [
    {
     "name": "stdout",
     "output_type": "stream",
     "text": [
      "Conditional Frequency Distribution:\n",
      "<ConditionalFreqDist with 16 conditions>\n"
     ]
    }
   ],
   "source": [
    "import nltk\n",
    "from nltk.probability import ConditionalFreqDist\n",
    "\n",
    "def calculate_cfd(corpus):\n",
    "    # Tokenize the corpus into sentences\n",
    "    sentences = nltk.sent_tokenize(corpus)\n",
    "\n",
    "    # Tokenize each sentence into words\n",
    "    words = [nltk.word_tokenize(sentence) for sentence in sentences]\n",
    "\n",
    "    # Create a Conditional Frequency Distribution\n",
    "    cfd = ConditionalFreqDist((word.lower(), len(word)) for sentence in words for word in sentence)\n",
    "\n",
    "    return cfd\n",
    "\n",
    "# Example corpus\n",
    "corpus = \"NLTK is a leading platform for building Python programs to work with human language data.\"\n",
    "\n",
    "# Calculate Conditional Frequency Distribution\n",
    "cfd = calculate_cfd(corpus)\n",
    "\n",
    "# Display the Conditional Frequency Distribution\n",
    "print(\"Conditional Frequency Distribution:\")\n",
    "print(cfd)\n"
   ]
  },
  {
   "cell_type": "code",
   "execution_count": 2,
   "metadata": {},
   "outputs": [
    {
     "name": "stdout",
     "output_type": "stream",
     "text": [
      "Four-letter words in decreasing order of frequency:\n",
      "nltk: 1\n",
      "work: 1\n",
      "with: 1\n",
      "data: 1\n"
     ]
    }
   ],
   "source": [
    "import nltk\n",
    "from nltk.tokenize import word_tokenize\n",
    "from nltk.probability import FreqDist\n",
    "\n",
    "def find_four_letter_words(corpus):\n",
    "    # Tokenize the corpus into words\n",
    "    words = word_tokenize(corpus)\n",
    "\n",
    "    # Filter out four-letter words\n",
    "    four_letter_words = [word.lower() for word in words if len(word) == 4 and word.isalpha()]\n",
    "\n",
    "    # Create a frequency distribution of four-letter words\n",
    "    freq_dist = FreqDist(four_letter_words)\n",
    "\n",
    "    # Sort the frequency distribution in decreasing order of frequency\n",
    "    sorted_freq_dist = sorted(freq_dist.items(), key=lambda x: x[1], reverse=True)\n",
    "\n",
    "    return sorted_freq_dist\n",
    "\n",
    "# Example corpus\n",
    "corpus = \"NLTK is a leading platform for building Python programs to work with human language data.\"\n",
    "\n",
    "# Find all four-letter words and display them in decreasing order of frequency\n",
    "four_letter_words = find_four_letter_words(corpus)\n",
    "print(\"Four-letter words in decreasing order of frequency:\")\n",
    "for word, frequency in four_letter_words:\n",
    "    print(f\"{word}: {frequency}\")\n"
   ]
  },
  {
   "cell_type": "code",
   "execution_count": 5,
   "metadata": {},
   "outputs": [
    {
     "name": "stderr",
     "output_type": "stream",
     "text": [
      "[nltk_data] Downloading package names to\n",
      "[nltk_data]     C:\\Users\\hp\\AppData\\Roaming\\nltk_data...\n",
      "[nltk_data]   Unzipping corpora\\names.zip.\n"
     ]
    },
    {
     "data": {
      "text/plain": [
       "True"
      ]
     },
     "execution_count": 5,
     "metadata": {},
     "output_type": "execute_result"
    }
   ],
   "source": [
    "import nltk\n",
    "\n",
    "# Download the names corpus\n",
    "nltk.download('names')\n"
   ]
  },
  {
   "cell_type": "code",
   "execution_count": 6,
   "metadata": {},
   "outputs": [
    {
     "name": "stdout",
     "output_type": "stream",
     "text": [
      "Conditional Frequency Distribution of Initial Letters by Gender:\n",
      "  female   male \n",
      "a    443    213 \n",
      "b    246    173 \n",
      "c    469    166 \n",
      "d    308    146 \n",
      "e    251    119 \n",
      "f    144     87 \n",
      "g    213    156 \n",
      "h    124    163 \n",
      "i     83     45 \n",
      "j    293    144 \n",
      "k    276     70 \n",
      "l    332    113 \n",
      "m    484    200 \n",
      "n    158     77 \n",
      "o     66     52 \n",
      "p    121    101 \n",
      "q      9     15 \n",
      "r    247    200 \n",
      "s    309    238 \n",
      "t    198    188 \n",
      "u     14     22 \n",
      "v    105     50 \n",
      "w     54    151 \n",
      "x      5      7 \n",
      "y     18     16 \n",
      "z     31     31 \n"
     ]
    }
   ],
   "source": [
    "import nltk\n",
    "from nltk.corpus import names\n",
    "from nltk.probability import ConditionalFreqDist\n",
    "\n",
    "def initial_letter_frequency_by_gender():\n",
    "    # Load the names corpus\n",
    "    male_names = names.words('male.txt')\n",
    "    female_names = names.words('female.txt')\n",
    "\n",
    "    # Extract initial letters of names and their genders\n",
    "    male_initials = [(name[0].lower(), 'male') for name in male_names]\n",
    "    female_initials = [(name[0].lower(), 'female') for name in female_names]\n",
    "\n",
    "    # Create a conditional frequency distribution\n",
    "    cfd = ConditionalFreqDist(male_initials + female_initials)\n",
    "\n",
    "    return cfd\n",
    "\n",
    "# Define a conditional frequency distribution over the names corpus\n",
    "cfd_names = initial_letter_frequency_by_gender()\n",
    "\n",
    "# Display the conditional frequency distribution\n",
    "print(\"Conditional Frequency Distribution of Initial Letters by Gender:\")\n",
    "cfd_names.tabulate()\n"
   ]
  },
  {
   "cell_type": "code",
   "execution_count": null,
   "metadata": {},
   "outputs": [],
   "source": []
  }
 ],
 "metadata": {
  "kernelspec": {
   "display_name": "Python 3",
   "language": "python",
   "name": "python3"
  },
  "language_info": {
   "codemirror_mode": {
    "name": "ipython",
    "version": 3
   },
   "file_extension": ".py",
   "mimetype": "text/x-python",
   "name": "python",
   "nbconvert_exporter": "python",
   "pygments_lexer": "ipython3",
   "version": "3.11.4"
  }
 },
 "nbformat": 4,
 "nbformat_minor": 2
}
