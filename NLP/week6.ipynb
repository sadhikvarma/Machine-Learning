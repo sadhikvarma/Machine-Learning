{
 "cells": [
  {
   "cell_type": "code",
   "execution_count": 1,
   "metadata": {},
   "outputs": [
    {
     "name": "stdout",
     "output_type": "stream",
     "text": [
      "Stopwords found in the text:\n",
      "['should', 'be', 'here', 'the', 'should', 'be']\n"
     ]
    }
   ],
   "source": [
    "import nltk\n",
    "from nltk.corpus import stopwords\n",
    "from nltk.tokenize import word_tokenize\n",
    "\n",
    "def find_stopwords(text):\n",
    "    \n",
    "    # Tokenize the text into words\n",
    "    words = word_tokenize(text)\n",
    "\n",
    "    # Get the English stopwords\n",
    "    english_stopwords = set(stopwords.words('english'))\n",
    "\n",
    "    # Find stopwords in the text\n",
    "    stopwords_found = [word for word in words if word.lower() in english_stopwords]\n",
    "\n",
    "    return stopwords_found\n",
    "\n",
    "# Example text\n",
    "text = \"Corpus should be given here the stopwords should be removed\"\n",
    "\n",
    "# Find stopwords in the text\n",
    "stopwords_found = find_stopwords(text)\n",
    "print(\"Stopwords found in the text:\")\n",
    "print(stopwords_found)\n"
   ]
  },
  {
   "cell_type": "code",
   "execution_count": 2,
   "metadata": {},
   "outputs": [
    {
     "name": "stderr",
     "output_type": "stream",
     "text": [
      "[nltk_data] Downloading package stopwords to\n",
      "[nltk_data]     C:\\Users\\hp\\AppData\\Roaming\\nltk_data...\n",
      "[nltk_data]   Package stopwords is already up-to-date!\n",
      "[nltk_data] Downloading package punkt to\n",
      "[nltk_data]     C:\\Users\\hp\\AppData\\Roaming\\nltk_data...\n"
     ]
    },
    {
     "name": "stdout",
     "output_type": "stream",
     "text": [
      "50 most frequent words (not stopwords):\n",
      "[('nltk', 2), ('python', 2), ('programs', 2), ('data', 2), ('.', 2), ('leading', 1), ('platform', 1), ('building', 1), ('work', 1), ('human', 1), ('language', 1), ('makes', 1), ('easy', 1), ('write', 1), ('process', 1), ('analyze', 1), ('textual', 1)]\n"
     ]
    },
    {
     "name": "stderr",
     "output_type": "stream",
     "text": [
      "[nltk_data]   Package punkt is already up-to-date!\n"
     ]
    }
   ],
   "source": [
    "import nltk\n",
    "from nltk.corpus import stopwords\n",
    "from nltk.tokenize import word_tokenize\n",
    "from collections import Counter\n",
    "\n",
    "def most_common_words(text):\n",
    "    \n",
    "\n",
    "    # Tokenize the text into words\n",
    "    words = word_tokenize(text)\n",
    "\n",
    "    # Get the English stopwords\n",
    "    english_stopwords = set(stopwords.words('english'))\n",
    "\n",
    "    # Filter out stopwords\n",
    "    filtered_words = [word.lower() for word in words if word.lower() not in english_stopwords]\n",
    "\n",
    "    # Count the frequency of each word\n",
    "    word_freq = Counter(filtered_words)\n",
    "\n",
    "    # Get the 50 most common words\n",
    "    most_common = word_freq.most_common(50)\n",
    "\n",
    "    return most_common\n",
    "\n",
    "# Example text\n",
    "text = \"NLTK is a leading platform for building Python programs to work with human language data. NLTK makes it easy to write Python programs that process and analyze textual data.\"\n",
    "\n",
    "# Find the 50 most common words that are not stopwords\n",
    "result = most_common_words(text)\n",
    "print(\"50 most frequent words (not stopwords):\")\n",
    "print(result)\n"
   ]
  },
  {
   "cell_type": "code",
   "execution_count": null,
   "metadata": {},
   "outputs": [],
   "source": []
  }
 ],
 "metadata": {
  "kernelspec": {
   "display_name": "Python 3",
   "language": "python",
   "name": "python3"
  },
  "language_info": {
   "codemirror_mode": {
    "name": "ipython",
    "version": 3
   },
   "file_extension": ".py",
   "mimetype": "text/x-python",
   "name": "python",
   "nbconvert_exporter": "python",
   "pygments_lexer": "ipython3",
   "version": "3.11.4"
  }
 },
 "nbformat": 4,
 "nbformat_minor": 2
}
