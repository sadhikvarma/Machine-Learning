{
 "cells": [
  {
   "cell_type": "code",
   "execution_count": 2,
   "metadata": {},
   "outputs": [
    {
     "name": "stdout",
     "output_type": "stream",
     "text": [
      "Chunked result:\n",
      "(S\n",
      "  (NP The/DT quick/JJ brown/NN fox/NN)\n",
      "  jumps/VBZ\n",
      "  over/IN\n",
      "  (NP the/DT lazy/JJ dog/NN))\n",
      "\n",
      "Chinked result:\n",
      "(S\n",
      "  (NP The/DT quick/JJ brown/NN fox/NN)\n",
      "  jumps/VBZ\n",
      "  (NP over/IN the/DT lazy/JJ dog/NN))\n"
     ]
    },
    {
     "name": "stderr",
     "output_type": "stream",
     "text": [
      "[nltk_data] Downloading package averaged_perceptron_tagger to\n",
      "[nltk_data]     C:\\Users\\hp\\AppData\\Roaming\\nltk_data...\n",
      "[nltk_data]   Package averaged_perceptron_tagger is already up-to-\n",
      "[nltk_data]       date!\n"
     ]
    }
   ],
   "source": [
    "import nltk\n",
    "from nltk.tokenize import word_tokenize\n",
    "from nltk import RegexpParser\n",
    "\n",
    "# Download necessary resources\n",
    "nltk.download('averaged_perceptron_tagger')\n",
    "\n",
    "# Sample text\n",
    "text = \"The quick brown fox jumps over the lazy dog\"\n",
    "\n",
    "# Tokenize the text\n",
    "tokens = word_tokenize(text)\n",
    "\n",
    "# Part-of-speech tagging\n",
    "tagged_tokens = nltk.pos_tag(tokens)\n",
    "\n",
    "\n",
    "# Define chunk grammar\n",
    "chunk_grammar = r\"\"\"\n",
    "    NP: {<DT|JJ|NN.*>+}          # Chunk sequences of DT, JJ, NN\n",
    "\"\"\"\n",
    "\n",
    "# Create chunk parser\n",
    "chunk_parser = RegexpParser(chunk_grammar)\n",
    "\n",
    "# Perform chunking\n",
    "chunked_tokens = chunk_parser.parse(tagged_tokens)\n",
    "\n",
    "# Print the chunked result\n",
    "print(\"Chunked result:\")\n",
    "print(chunked_tokens)\n",
    "\n",
    "# Define chink grammar\n",
    "chink_grammar = r\"\"\"\n",
    "    NP:\n",
    "        {<.*>+}               # Chunk everything\n",
    "        }<VB.*>{              # Chink verbs\n",
    "\"\"\"\n",
    "\n",
    "# Create chink parser\n",
    "chink_parser = RegexpParser(chink_grammar)\n",
    "\n",
    "# Perform chinking\n",
    "chinked_tokens = chink_parser.parse(tagged_tokens)\n",
    "\n",
    "# Print the chinked result\n",
    "print(\"\\nChinked result:\")\n",
    "print(chinked_tokens)\n"
   ]
  },
  {
   "cell_type": "code",
   "execution_count": null,
   "metadata": {},
   "outputs": [],
   "source": []
  }
 ],
 "metadata": {
  "kernelspec": {
   "display_name": "Python 3",
   "language": "python",
   "name": "python3"
  },
  "language_info": {
   "codemirror_mode": {
    "name": "ipython",
    "version": 3
   },
   "file_extension": ".py",
   "mimetype": "text/x-python",
   "name": "python",
   "nbconvert_exporter": "python",
   "pygments_lexer": "ipython3",
   "version": "3.11.4"
  }
 },
 "nbformat": 4,
 "nbformat_minor": 2
}
