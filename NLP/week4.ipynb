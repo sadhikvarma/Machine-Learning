{
 "cells": [
  {
   "cell_type": "code",
   "execution_count": 1,
   "metadata": {},
   "outputs": [
    {
     "name": "stdout",
     "output_type": "stream",
     "text": [
      "Mathematical expressions: [' + ', ' * ']\n"
     ]
    }
   ],
   "source": [
    "import re\n",
    "\n",
    "def identify_math_expression(sentence):\n",
    "    # Define a regular expression pattern for mathematical expressions\n",
    "    pattern = r'\\b\\d+(\\.\\d+)?\\s*([-+*/%^])\\s*\\d+(\\.\\d+)?\\b'\n",
    "\n",
    "    # Find all matches in the sentence\n",
    "    matches = re.findall(pattern, sentence)\n",
    "\n",
    "    # Return the identified mathematical expressions\n",
    "    return [f\"{match[0]} {match[1]} {match[2]}\" for match in matches]\n",
    "\n",
    "# Example usage:\n",
    "sentence = \"The sum of 5+3=8, and 10*2=20.\"\n",
    "expressions = identify_math_expression(sentence)\n",
    "print(\"Mathematical expressions:\", expressions)\n"
   ]
  },
  {
   "cell_type": "code",
   "execution_count": 1,
   "metadata": {},
   "outputs": [
    {
     "name": "stdout",
     "output_type": "stream",
     "text": [
      "Mathematical expressions found:\n",
      "2x + 3 = 7\n",
      "x = 2.\n",
      "x / 2 = 0\n",
      "x = 2\n"
     ]
    }
   ],
   "source": [
    "import nltk\n",
    "import re\n",
    "\n",
    "def identify_math_expression(words):\n",
    "    # Tokenize the sentence into words\n",
    "    words = nltk.word_tokenize(sentence)\n",
    "    res=[]\n",
    "    l=['+','-','*','/','**']\n",
    "    for i in range(len(words)):\n",
    "        c=words[i]\n",
    "        if c in l or (c=='=' and words[i-2] not in l):            \n",
    "            res.append((c,i))\n",
    "    return res\n",
    "\n",
    "# Example usage\n",
    "sentence = \"The solution to the equation 2x + 3 = 7 is x = 2. and x / 2 = 0 where x = 2\"\n",
    "\n",
    " # Download the Punkt tokenizer\n",
    "words = nltk.word_tokenize(sentence)\n",
    "math_expressions = identify_math_expression(words)\n",
    "print(\"Mathematical expressions found:\")\n",
    "for expr in math_expressions:\n",
    "    i=expr[1]\n",
    "    if expr[0]=='=':\n",
    "        print(words[i-1],words[i],words[i+1])\n",
    "    else:\n",
    "        print(words[i-1],words[i],words[i+1],words[i+2],words[i+3]) "
   ]
  },
  {
   "cell_type": "code",
   "execution_count": 2,
   "metadata": {},
   "outputs": [
    {
     "name": "stdout",
     "output_type": "stream",
     "text": [
      "['2+3+4-2/3', '3+3+3', '-2', '.33', '2', '+.2']\n"
     ]
    }
   ],
   "source": [
    "import re\n",
    "sentence = \"The expression is 2+3+4-2/3 3+3+3 and this is -2 .33 2 +.2\"\n",
    "regex = r'[-+]?\\d*\\.?\\d+(?:[-+*/]\\d*\\.?\\d+)*'\n",
    "expressions = re.findall(regex, sentence)\n",
    "print(expressions)"
   ]
  },
  {
   "cell_type": "code",
   "execution_count": 1,
   "metadata": {},
   "outputs": [
    {
     "name": "stdout",
     "output_type": "stream",
     "text": [
      "Local Part: user\n",
      "Domain Part: example.com\n"
     ]
    }
   ],
   "source": [
    "import re\n",
    "\n",
    "def identify_email_components(email):\n",
    "    # Regular expression for matching email addresses\n",
    "    email_pattern = r'^([a-zA-Z0-9._%+-]+)@([a-zA-Z0-9.-]+\\.[a-zA-Z]{2,})$'\n",
    "\n",
    "    # Match the pattern against the provided email\n",
    "    match = re.match(email_pattern, email)\n",
    "\n",
    "    if match:\n",
    "        local_part = match.group(1)\n",
    "        domain_part = match.group(2)\n",
    "        return f\"Local Part: {local_part}\\nDomain Part: {domain_part}\"\n",
    "    else:\n",
    "        return \"Invalid email address format.\"\n",
    "\n",
    "# Example usage\n",
    "email_address = \"user@example.com\"\n",
    "components = identify_email_components(email_address)\n",
    "\n",
    "print(components)\n"
   ]
  },
  {
   "cell_type": "code",
   "execution_count": null,
   "metadata": {},
   "outputs": [],
   "source": []
  }
 ],
 "metadata": {
  "kernelspec": {
   "display_name": "Python 3",
   "language": "python",
   "name": "python3"
  },
  "language_info": {
   "codemirror_mode": {
    "name": "ipython",
    "version": 3
   },
   "file_extension": ".py",
   "mimetype": "text/x-python",
   "name": "python",
   "nbconvert_exporter": "python",
   "pygments_lexer": "ipython3",
   "version": "3.11.4"
  }
 },
 "nbformat": 4,
 "nbformat_minor": 2
}
