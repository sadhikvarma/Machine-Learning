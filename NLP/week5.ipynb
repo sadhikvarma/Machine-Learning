{
 "cells": [
  {
   "cell_type": "code",
   "execution_count": 1,
   "metadata": {},
   "outputs": [
    {
     "name": "stdout",
     "output_type": "stream",
     "text": [
      "Synonyms of 'happy': happy, felicitous, well-chosen, glad\n",
      "Antonyms of 'happy': unhappy\n"
     ]
    }
   ],
   "source": [
    "from nltk.corpus import wordnet\n",
    "\n",
    "def get_synonyms_antonyms(word):\n",
    "    synonyms = []\n",
    "    antonyms = []\n",
    "\n",
    "    for syn in wordnet.synsets(word):\n",
    "        for lemma in syn.lemmas():\n",
    "            synonyms.append(lemma.name())\n",
    "            if lemma.antonyms():\n",
    "                antonyms.append(lemma.antonyms()[0].name())\n",
    "\n",
    "    return set(synonyms), set(antonyms)\n",
    "\n",
    "# Example usage\n",
    "word_to_check = \"happy\"\n",
    "synonyms, antonyms = get_synonyms_antonyms(word_to_check)\n",
    "\n",
    "print(f\"Synonyms of '{word_to_check}': {', '.join(synonyms)}\")\n",
    "print(f\"Antonyms of '{word_to_check}': {', '.join(antonyms)}\")\n"
   ]
  },
  {
   "cell_type": "code",
   "execution_count": 1,
   "metadata": {},
   "outputs": [
    {
     "name": "stdout",
     "output_type": "stream",
     "text": [
      "Hyponyms of 'bank': Home_Loan_Bank, Federal_Reserve_Bank, credit_union, look, penny_bank, sandbank, state_bank, piggy_bank, merchant_bank, bluff, eye_bank, depend, lead_bank, bet, calculate, credit, member_bank, food_bank, redeposit, vertical_bank, agent_bank, acquirer, riverside, riverbank, commercial_bank, count, soil_bank, full_service_bank, lean, blood_bank, reckon, reserve_bank, waterside, thrift_institution\n",
      "Homonyms of 'bank': depository_financial_institution, banking_concern, banking_company, cant, camber, savings_bank, coin_bank, money_box, bank_building, deposit, trust, swear, rely\n",
      "Polysemy of 'bank': {'money_box', 'banking_company', 'cant', 'bank', 'bank_building', 'trust', 'banking_concern', 'swear', 'depository_financial_institution', 'camber', 'coin_bank', 'rely', 'savings_bank', 'deposit'}\n"
     ]
    }
   ],
   "source": [
    "from nltk.corpus import wordnet\n",
    "\n",
    "def find_lexical_relationships(word):\n",
    "    # Finding hyponyms\n",
    "    hyponyms = set()\n",
    "    for syn in wordnet.synsets(word):\n",
    "        hyponyms.update([lemma.name() for hypernym in syn.hyponyms() for lemma in hypernym.lemmas()])\n",
    "\n",
    "    # Finding homonyms\n",
    "    homonyms = [lemma.name() for syn in wordnet.synsets(word) for lemma in syn.lemmas() if lemma.name() != word]\n",
    "\n",
    "    # Finding polysemy\n",
    "    polysemy = len(set([lemma.name() for syn in wordnet.synsets(word) for lemma in syn.lemmas()]))\n",
    "\n",
    "    return hyponyms, homonyms, polysemy\n",
    "\n",
    "# Example usage\n",
    "word_to_check = \"bank\"\n",
    "hyponyms, homonyms, polysemy = find_lexical_relationships(word_to_check)\n",
    "\n",
    "print(f\"Hyponyms of '{word_to_check}': {', '.join(hyponyms)}\")\n",
    "print(f\"Homonyms of '{word_to_check}': {', '.join(homonyms)}\")\n",
    "print(f\"Polysemy of '{word_to_check}': {polysemy}\")\n"
   ]
  },
  {
   "cell_type": "code",
   "execution_count": null,
   "metadata": {},
   "outputs": [],
   "source": []
  }
 ],
 "metadata": {
  "kernelspec": {
   "display_name": "Python 3",
   "language": "python",
   "name": "python3"
  },
  "language_info": {
   "codemirror_mode": {
    "name": "ipython",
    "version": 3
   },
   "file_extension": ".py",
   "mimetype": "text/x-python",
   "name": "python",
   "nbconvert_exporter": "python",
   "pygments_lexer": "ipython3",
   "version": "3.11.4"
  }
 },
 "nbformat": 4,
 "nbformat_minor": 2
}
