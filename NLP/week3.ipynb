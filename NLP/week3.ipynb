{
 "cells": [
  {
   "cell_type": "code",
   "execution_count": 3,
   "metadata": {},
   "outputs": [
    {
     "name": "stdout",
     "output_type": "stream",
     "text": [
      "<nltk.metrics.association.BigramAssocMeasures object at 0x000002259799C550>\n",
      "Top 10 collocations in the text:\n",
      "new, delhi: 3\n"
     ]
    }
   ],
   "source": [
    "import nltk\n",
    "from nltk.corpus import stopwords\n",
    "\n",
    "def find_collocations(text):\n",
    "    # Tokenize the text into sentences\n",
    "    sentences = nltk.sent_tokenize(text)\n",
    "\n",
    "    # Tokenize each sentence into words\n",
    "    words = [nltk.word_tokenize(sentence) for sentence in sentences]\n",
    "\n",
    "    # Remove stopwords and words with fewer than 3 letters\n",
    "    filtered_words = [word.lower() for sentence in words for word in sentence if word.lower() not in stopwords.words('english') and len(word) > 2]\n",
    "\n",
    "    # # Identify collocations using the Bigram Assoc Measure\n",
    "    # collocations = nltk.collocations.BigramAssocMeasures()\n",
    "\n",
    "    # Find the top 10 collocations in the text\n",
    "    top_collocations = nltk.collocations.BigramCollocationFinder.from_words(filtered_words)\n",
    "    top_collocations.apply_freq_filter(2)  # Adjust the frequency filter as needed\n",
    "\n",
    "    # Print the top 10 collocations\n",
    "    print(\"Top 10 collocations in the text:\")\n",
    "    for word, collocation in top_collocations.ngram_fd.most_common(10):\n",
    "        print(f\"{word[0]}, {word[1]}: {collocation}\")\n",
    "\n",
    "text=\"New Delhi, the capital city of India, stands as a vibrant metropolis that seamlessly blends rich history with modernity. Known for its distinct blend of diverse cultures, the city serves as the political heart of the nation. Home to iconic landmarks such as the India Gate, Humayun's Tomb, and the Lotus Temple, New Delhi encapsulates architectural marvels that narrate tales of bygone eras. The bustling streets are adorned with markets, offering an array of goods, from traditional crafts to contemporary fashion. The city's historical significance is evident in its numerous museums and monuments, while its dynamic culinary scene caters to every palate. New Delhi's resilience and constant evolution reflect the essence of a city that stands at the crossroads of tradition and progress.\"\n",
    "find_collocations(text)\n"
   ]
  },
  {
   "cell_type": "code",
   "execution_count": 25,
   "metadata": {},
   "outputs": [
    {
     "name": "stdout",
     "output_type": "stream",
     "text": [
      "Words starting with 'ev':\n",
      "events\n",
      "event\n",
      "events\n",
      "events\n"
     ]
    }
   ],
   "source": [
    "def find_words_starting_with(text, sequence):\n",
    "    # Tokenize the text into words\n",
    "    words = nltk.word_tokenize(text)\n",
    "\n",
    "    # Filter the words to find those starting with the given sequence\n",
    "    starting_with_sequence = [word for word in words if word.lower().startswith(sequence.lower())]\n",
    "\n",
    "    # Print the words starting with the given sequence\n",
    "    print(f\"Words starting with '{sequence}':\")\n",
    "    for word in starting_with_sequence:\n",
    "        print(word)\n",
    "\n",
    "text = \"Life is a series of events that take place over a period of time. Each event has a specific date and time that it occurs. For example, someone might be born, they might graduate from school, or they might get married. The study of events, dates, and times is called temporal analysis. Temporal analysis helps us understand how events relate to each other over time.\"\n",
    "sequence = \"ev\"\n",
    "find_words_starting_with(text, sequence)"
   ]
  },
  {
   "cell_type": "code",
   "execution_count": 26,
   "metadata": {},
   "outputs": [
    {
     "name": "stdout",
     "output_type": "stream",
     "text": [
      "Words longer than four characters:\n",
      "series\n",
      "events\n",
      "place\n",
      "period\n",
      "event\n",
      "specific\n",
      "occurs\n",
      "example\n",
      "someone\n",
      "might\n",
      "might\n",
      "graduate\n",
      "school\n",
      "might\n",
      "married\n",
      "study\n",
      "events\n",
      "dates\n",
      "times\n",
      "called\n",
      "temporal\n",
      "analysis\n",
      "Temporal\n",
      "analysis\n",
      "helps\n",
      "understand\n",
      "events\n",
      "relate\n",
      "other\n"
     ]
    }
   ],
   "source": [
    "def find_words_longer_than_four_characters(text):\n",
    "    # Tokenize the text into words\n",
    "    words = nltk.word_tokenize(text)\n",
    "\n",
    "    # Filter the words to find those longer than four characters\n",
    "    longer_than_four_characters = [word for word in words if len(word) > 4]\n",
    "\n",
    "    # Print the words longer than four characters\n",
    "    print(f\"Words longer than four characters:\")\n",
    "    for word in longer_than_four_characters:\n",
    "        print(word)\n",
    "\n",
    "text = \"Life is a series of events that take place over a period of time. Each event has a specific date and time that it occurs. For example, someone might be born, they might graduate from school, or they might get married. The study of events, dates, and times is called temporal analysis. Temporal analysis helps us understand how events relate to each other over time.\"\n",
    "find_words_longer_than_four_characters(text)\n"
   ]
  },
  {
   "cell_type": "code",
   "execution_count": 6,
   "metadata": {},
   "outputs": [
    {
     "name": "stdout",
     "output_type": "stream",
     "text": [
      "('New', 'Delhi')\n",
      "('.', 'The')\n",
      "('Known', 'for')\n",
      "('Lotus', 'Temple')\n",
      "('an', 'array')\n",
      "('architectural', 'marvels')\n",
      "('are', 'adorned')\n",
      "('blends', 'rich')\n",
      "('bustling', 'streets')\n",
      "('bygone', 'eras')\n",
      "Top 10 collocations in the text:\n"
     ]
    }
   ],
   "source": [
    "import nltk\n",
    "from nltk.corpus import stopwords\n",
    "\n",
    "def find_collocations(text):\n",
    "    # Tokenize the text into sentences\n",
    "    sentences = nltk.sent_tokenize(text)\n",
    "\n",
    "    # Tokenize each sentence into words\n",
    "    words = nltk.word_tokenize(text) \n",
    "\n",
    "    # Remove stopwords and words with fewer than 3 letters\n",
    "    finder=nltk.collocations.BigramCollocationFinder.from_words(words)\n",
    "    # # Identify collocations using the Bigram Assoc Measure\n",
    "    # collocations = nltk.collocations.BigramAssocMeasures()\n",
    "    bigram_measures=nltk.collocations.BigramAssocMeasures()\n",
    "    collocations=finder.nbest(bigram_measures.likelihood_ratio,10)\n",
    "    for collocation in collocations:\n",
    "        print(collocation)\n",
    "    # Find the top 10 collocations in the text\n",
    "    # top_collocations = nltk.collocations.BigramCollocationFinder.from_words(words)\n",
    "    # top_collocations.apply_freq_filter(2)  # Adjust the frequency filter as needed\n",
    "\n",
    "    # Print the top 10 collocations\n",
    "    print(\"Top 10 collocations in the text:\")\n",
    "    \n",
    "\n",
    "text=\"New Delhi, the capital city of India, stands as a vibrant metropolis that seamlessly blends rich history with modernity. Known for its distinct blend of diverse cultures, the city serves as the political heart of the nation. Home to iconic landmarks such as the India Gate, Humayun's Tomb, and the Lotus Temple, New Delhi encapsulates architectural marvels that narrate tales of bygone eras. The bustling streets are adorned with markets, offering an array of goods, from traditional crafts to contemporary fashion. The city's historical significance is evident in its numerous museums and monuments, while its dynamic culinary scene caters to every palate. New Delhi's resilience and constant evolution reflect the essence of a city that stands at the crossroads of tradition and progress.\"\n",
    "find_collocations(text)\n"
   ]
  },
  {
   "cell_type": "code",
   "execution_count": null,
   "metadata": {},
   "outputs": [],
   "source": []
  }
 ],
 "metadata": {
  "kernelspec": {
   "display_name": "Python 3",
   "language": "python",
   "name": "python3"
  },
  "language_info": {
   "codemirror_mode": {
    "name": "ipython",
    "version": 3
   },
   "file_extension": ".py",
   "mimetype": "text/x-python",
   "name": "python",
   "nbconvert_exporter": "python",
   "pygments_lexer": "ipython3",
   "version": "3.11.4"
  }
 },
 "nbformat": 4,
 "nbformat_minor": 2
}
